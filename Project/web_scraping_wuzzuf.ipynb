{
 "cells": [
  {
   "cell_type": "markdown",
   "metadata": {},
   "source": [
    "# Web Scraping"
   ]
  },
  {
   "cell_type": "markdown",
   "id": "abd180587c131daa",
   "metadata": {},
   "source": [
    "In this notebook I will walk you through the process of web scraping using Python. I will use the following libraries:"
   ]
  },
  {
   "cell_type": "code",
   "execution_count": 1,
   "id": "2a769b0b03f2bc91",
   "metadata": {
    "ExecuteTime": {
     "end_time": "2024-05-03T00:23:14.175901Z",
     "start_time": "2024-05-03T00:23:12.644002Z"
    }
   },
   "outputs": [],
   "source": [
    "import pandas as pd # to work with dataframes\n",
    "import requests # to send http requests\n",
    "from bs4 import BeautifulSoup # to parse html"
   ]
  },
  {
   "cell_type": "markdown",
   "id": "54acce7c84f84db3",
   "metadata": {},
   "source": [
    "I will scrape the website [Wuzzuf](https://wuzzuf.net/) to get the data science jobs in Egypt.\n"
   ]
  },
  {
   "cell_type": "code",
   "execution_count": 2,
   "id": "fbd4755e8cbb98b6",
   "metadata": {
    "ExecuteTime": {
     "end_time": "2024-05-03T00:24:02.184597Z",
     "start_time": "2024-05-03T00:23:14.177900Z"
    }
   },
   "outputs": [
    {
     "data": {
      "text/plain": [
       "<Response [200]>"
      ]
     },
     "execution_count": 2,
     "metadata": {},
     "output_type": "execute_result"
    }
   ],
   "source": [
    "req = requests.get('https://wuzzuf.net/search/jobs/?a=hpb%7Cspbg&q=data%20science')\n",
    "req"
   ]
  },
  {
   "cell_type": "code",
   "execution_count": 3,
   "id": "a03bea502c0dae55",
   "metadata": {
    "ExecuteTime": {
     "end_time": "2024-05-03T00:24:02.199528Z",
     "start_time": "2024-05-03T00:24:02.187552Z"
    }
   },
   "outputs": [],
   "source": [
    "content = req.content"
   ]
  },
  {
   "cell_type": "code",
   "execution_count": 4,
   "id": "44f5ef1ca065c597",
   "metadata": {
    "ExecuteTime": {
     "end_time": "2024-05-03T00:24:02.311248Z",
     "start_time": "2024-05-03T00:24:02.202512Z"
    }
   },
   "outputs": [],
   "source": [
    "soup = BeautifulSoup(content, 'html.parser')"
   ]
  },
  {
   "cell_type": "code",
   "execution_count": 5,
   "id": "e5184674a0d186d0",
   "metadata": {
    "ExecuteTime": {
     "end_time": "2024-05-03T00:24:02.343137Z",
     "start_time": "2024-05-03T00:24:02.315212Z"
    }
   },
   "outputs": [],
   "source": [
    "jobs = soup.find_all(\"div\", class_='css-pkv5jc')\n"
   ]
  },
  {
   "cell_type": "code",
   "execution_count": 6,
   "id": "d38fbcea101b5bcb",
   "metadata": {
    "ExecuteTime": {
     "end_time": "2024-05-03T00:24:02.358096Z",
     "start_time": "2024-05-03T00:24:02.346128Z"
    }
   },
   "outputs": [
    {
     "data": {
      "text/plain": [
       "15"
      ]
     },
     "execution_count": 6,
     "metadata": {},
     "output_type": "execute_result"
    }
   ],
   "source": [
    "len(jobs)"
   ]
  },
  {
   "cell_type": "code",
   "execution_count": 7,
   "id": "dfe08c6665a11800",
   "metadata": {
    "ExecuteTime": {
     "end_time": "2024-05-03T00:24:02.389015Z",
     "start_time": "2024-05-03T00:24:02.360090Z"
    }
   },
   "outputs": [
    {
     "data": {
      "text/plain": [
       "<div class=\"css-pkv5jc\"><a href=\"https://wuzzuf.net/jobs/careers/Care-Dental-Egypt-27404\" rel=\"noreferrer\" target=\"_blank\"><style data-emotion=\"css 17095x3\">.css-17095x3{position:absolute;right:0;top:0;width:60px;height:60px;object-fit:contain;object-position:center center;}</style></a><style data-emotion=\"css laomuu\">.css-laomuu{padding-right:60px;}</style><div class=\"css-laomuu\"><style data-emotion=\"css m604qf\">.css-m604qf{font-size:16px;font-weight:600;font-style:normal;letter-spacing:-0.4px;line-height:24px;color:#0055D9;margin:0;}</style><h2 class=\"css-m604qf\"><style data-emotion=\"css o171kl\">.css-o171kl{-webkit-text-decoration:none;text-decoration:none;color:inherit;}</style><a class=\"css-o171kl\" href=\"https://wuzzuf.net/internship/1kma8fGoLuav-AI-Data-Science-Python-Developer-Intern-Sequel-Solutions-Cairo-Egypt\" rel=\"noreferrer\" target=\"_blank\">AI &amp; Data Science Python Developer Intern</a></h2><style data-emotion=\"css d7j1kk\">.css-d7j1kk{margin-bottom:8px;overflow:hidden;text-overflow:ellipsis;}</style><div class=\"css-d7j1kk\"><style data-emotion=\"css 17s97q8\">.css-17s97q8{font-size:12px;font-weight:600;font-style:normal;letter-spacing:-0.27px;line-height:19px;color:#001433;-webkit-text-decoration:none;text-decoration:none;}</style><a class=\"css-17s97q8\" href=\"https://wuzzuf.net/jobs/careers/Care-Dental-Egypt-27404\" rel=\"noreferrer\" target=\"_blank\">Sequel Solutions -</a> <style data-emotion=\"css 5wys0k\">.css-5wys0k{font-size:12px;font-weight:600;font-style:normal;letter-spacing:-0.27px;line-height:19px;color:#4D6182;}</style><span class=\"css-5wys0k\">Cairo, <!-- -->Egypt </span><style data-emotion=\"css 4c4ojb\">.css-4c4ojb{font-size:12px;font-weight:400;font-style:normal;letter-spacing:-0.27px;line-height:19px;color:#2C9266;}</style><div class=\"css-4c4ojb\">3 days<!-- --> ago</div></div></div><style data-emotion=\"css y4udm8\">.css-y4udm8{font-size:13px;font-weight:600;font-style:normal;letter-spacing:-0.3px;line-height:20px;color:#4D6182;}</style><div class=\"css-y4udm8\"><style data-emotion=\"css 1lh32fc\">.css-1lh32fc{display:-webkit-box;display:-webkit-flex;display:-ms-flexbox;display:flex;margin-bottom:8px;-webkit-align-items:center;-webkit-box-align:center;-ms-flex-align:center;align-items:center;-webkit-box-flex-wrap:wrap;-webkit-flex-wrap:wrap;-ms-flex-wrap:wrap;flex-wrap:wrap;}</style><div class=\"css-1lh32fc\"><style data-emotion=\"css n2jc4m\">.css-n2jc4m{display:-webkit-inline-box;display:-webkit-inline-flex;display:-ms-inline-flexbox;display:inline-flex;-webkit-align-items:center;-webkit-box-align:center;-ms-flex-align:center;align-items:center;-webkit-text-decoration:none;text-decoration:none;color:inherit;margin-bottom:4px;}</style><a class=\"css-n2jc4m\" href=\"/a/Internship-Jobs-in-Egypt\"><style data-emotion=\"css adtuo7\">.css-adtuo7{cursor:pointer;padding:0 4px;border-radius:4px;}</style><style data-emotion=\"css 1ve4b75\">.css-1ve4b75{font-size:12px;font-weight:600;display:-webkit-inline-box;display:-webkit-inline-flex;display:-ms-inline-flexbox;display:inline-flex;-webkit-align-items:center;-webkit-box-align:center;-ms-flex-align:center;align-items:center;min-height:20px;margin-right:4px;border-radius:2px;max-width:196px;white-space:nowrap;overflow:hidden;cursor:default;text-overflow:ellipsis;padding:2px 4px;background-color:#EBEDF0;color:#001433;cursor:pointer;padding:0 4px;border-radius:4px;}</style><span class=\"css-1ve4b75 eoyjyou0\">Internship</span></a><a href=\"/a/Remote-Jobs-in-Egypt\"><style data-emotion=\"css 1i1n6hw\">.css-1i1n6hw{cursor:pointer;padding:0 4px;border-radius:4px;margin-bottom:4px;}</style><style data-emotion=\"css o1vzmt\">.css-o1vzmt{font-size:12px;font-weight:600;display:-webkit-inline-box;display:-webkit-inline-flex;display:-ms-inline-flexbox;display:inline-flex;-webkit-align-items:center;-webkit-box-align:center;-ms-flex-align:center;align-items:center;min-height:20px;margin-right:4px;border-radius:2px;max-width:196px;white-space:nowrap;overflow:hidden;cursor:default;text-overflow:ellipsis;padding:2px 4px;background-color:#EBEDF0;color:#001433;cursor:pointer;padding:0 4px;border-radius:4px;margin-bottom:4px;}</style><span class=\"css-o1vzmt eoyjyou0\">Remote</span></a></div><div><a class=\"css-o171kl\" href=\"/a/Student-Jobs-in-Egypt\">Student</a> <span>· <!-- -->0 - 1 Yrs of Exp</span><a class=\"css-o171kl\" href=\"/a/IT-Software-Development-Jobs-in-Egypt\"> <!-- -->· <!-- -->IT/Software Development</a><a class=\"css-o171kl\" href=\"/a/Engineering-Telecom-Technology-Jobs-in-Egypt\"> <!-- -->· <!-- -->Engineering - Telecom/Technology</a> <!-- -->·<!-- --> <style data-emotion=\"css 5x9pm1\">.css-5x9pm1{-webkit-text-decoration:none;text-decoration:none;color:inherit;max-width:calc(100vw / 2 - 32px);white-space:nowrap;overflow:hidden;text-overflow:ellipsis;display:-webkit-inline-box;display:-webkit-inline-flex;display:-ms-inline-flexbox;display:inline-flex;}</style><a class=\"css-5x9pm1\" href=\"/a/Computer-Science-Jobs-in-Egypt\"><span><span>Computer </span><strong class=\"highlight\">Science</strong></span></a><a class=\"css-5x9pm1\" href=\"/a/Algorithms-Jobs-in-Egypt\"> <!-- -->· <!-- -->Algorithms</a><a class=\"css-5x9pm1\" href=\"/a/Information-Technology-IT-Jobs-in-Egypt\"> <!-- -->· <!-- -->Information Technology (IT)</a><a class=\"css-5x9pm1\" href=\"/a/Python-Jobs-in-Egypt\"> <!-- -->· <!-- -->Python</a><a class=\"css-5x9pm1\" href=\"/a/Software-Jobs-in-Egypt\"> <!-- -->· <!-- -->Software</a><a class=\"css-5x9pm1\" href=\"/a/Software-Development-Jobs-in-Egypt\"> <!-- -->· <!-- -->Software Development</a><a class=\"css-5x9pm1\" href=\"/a/Software-Engineering-Jobs-in-Egypt\"> <!-- -->· <!-- -->Software Engineering</a><a class=\"css-5x9pm1\" href=\"/a/Programming-Jobs-in-Egypt\"> <!-- -->· <!-- -->Programming</a></div></div></div>"
      ]
     },
     "execution_count": 7,
     "metadata": {},
     "output_type": "execute_result"
    }
   ],
   "source": [
    "jobs[0]"
   ]
  },
  {
   "cell_type": "code",
   "execution_count": 8,
   "id": "f9c13a15712ec62f",
   "metadata": {
    "ExecuteTime": {
     "end_time": "2024-05-03T00:24:02.404972Z",
     "start_time": "2024-05-03T00:24:02.392005Z"
    }
   },
   "outputs": [
    {
     "data": {
      "text/plain": [
       "'AI & Data Science Python Developer Intern'"
      ]
     },
     "execution_count": 8,
     "metadata": {},
     "output_type": "execute_result"
    }
   ],
   "source": [
    "job_title = jobs[0].find(\"h2\", class_='css-m604qf').text\n",
    "job_title"
   ]
  },
  {
   "cell_type": "code",
   "execution_count": 9,
   "id": "3ce25e1916e3a871",
   "metadata": {
    "ExecuteTime": {
     "end_time": "2024-05-03T00:24:02.436887Z",
     "start_time": "2024-05-03T00:24:02.409958Z"
    }
   },
   "outputs": [
    {
     "data": {
      "text/plain": [
       "'Sequel Solutions'"
      ]
     },
     "execution_count": 9,
     "metadata": {},
     "output_type": "execute_result"
    }
   ],
   "source": [
    "company_name = jobs[0].find(\"div\", class_ = \"css-d7j1kk\").text.split(\" - \")[0]\n",
    "company_name\n"
   ]
  },
  {
   "cell_type": "code",
   "execution_count": 10,
   "id": "eb9950fdd67c9944",
   "metadata": {
    "ExecuteTime": {
     "end_time": "2024-05-03T00:24:02.451847Z",
     "start_time": "2024-05-03T00:24:02.439882Z"
    }
   },
   "outputs": [
    {
     "data": {
      "text/plain": [
       "'Egypt'"
      ]
     },
     "execution_count": 10,
     "metadata": {},
     "output_type": "execute_result"
    }
   ],
   "source": [
    "country = jobs[0].find(\"span\", class_ = \"css-5wys0k\").text.split(\", \")[1].replace(\" \", \"\")\n",
    "country\n"
   ]
  },
  {
   "cell_type": "code",
   "execution_count": 11,
   "id": "2e74ae91d558c9b9",
   "metadata": {
    "ExecuteTime": {
     "end_time": "2024-05-03T00:24:02.466816Z",
     "start_time": "2024-05-03T00:24:02.455836Z"
    }
   },
   "outputs": [
    {
     "data": {
      "text/plain": [
       "'Cairo'"
      ]
     },
     "execution_count": 11,
     "metadata": {},
     "output_type": "execute_result"
    }
   ],
   "source": [
    "city = jobs[0].find(\"span\", class_ = \"css-5wys0k\").text.split(\", \")[0]\n",
    "city"
   ]
  },
  {
   "cell_type": "code",
   "execution_count": 12,
   "id": "e160e6848e34d55d",
   "metadata": {
    "ExecuteTime": {
     "end_time": "2024-05-03T00:24:02.482766Z",
     "start_time": "2024-05-03T00:24:02.470798Z"
    }
   },
   "outputs": [
    {
     "data": {
      "text/plain": [
       "'3 days ago'"
      ]
     },
     "execution_count": 12,
     "metadata": {},
     "output_type": "execute_result"
    }
   ],
   "source": [
    "date_of_offer = jobs[0].find(\"div\", class_ = \"css-4c4ojb\").text\n",
    "date_of_offer"
   ]
  },
  {
   "cell_type": "code",
   "execution_count": 13,
   "id": "45ded0afdb889831",
   "metadata": {
    "ExecuteTime": {
     "end_time": "2024-05-03T00:24:02.498724Z",
     "start_time": "2024-05-03T00:24:02.484758Z"
    }
   },
   "outputs": [
    {
     "data": {
      "text/plain": [
       "'Internship'"
      ]
     },
     "execution_count": 13,
     "metadata": {},
     "output_type": "execute_result"
    }
   ],
   "source": [
    "job_type = jobs[0].find(\"span\", class_=\"css-1ve4b75 eoyjyou0\").text\n",
    "job_type"
   ]
  },
  {
   "cell_type": "code",
   "execution_count": 14,
   "id": "869237859f82fd",
   "metadata": {
    "ExecuteTime": {
     "end_time": "2024-05-03T00:24:02.514678Z",
     "start_time": "2024-05-03T00:24:02.505705Z"
    }
   },
   "outputs": [
    {
     "data": {
      "text/plain": [
       "'Remote'"
      ]
     },
     "execution_count": 14,
     "metadata": {},
     "output_type": "execute_result"
    }
   ],
   "source": [
    "work_location = jobs[0].find(\"span\", class_=\"css-o1vzmt eoyjyou0\").text\n",
    "work_location"
   ]
  },
  {
   "cell_type": "code",
   "execution_count": 15,
   "id": "f4a118686ad759d",
   "metadata": {
    "ExecuteTime": {
     "end_time": "2024-05-03T00:24:02.530635Z",
     "start_time": "2024-05-03T00:24:02.517670Z"
    }
   },
   "outputs": [
    {
     "data": {
      "text/plain": [
       "'Student'"
      ]
     },
     "execution_count": 15,
     "metadata": {},
     "output_type": "execute_result"
    }
   ],
   "source": [
    "experience_level = jobs[0].find(\"div\", class_=\"css-1lh32fc\").next_sibling.text.split(\" · \")[0]\n",
    "experience_level"
   ]
  },
  {
   "cell_type": "code",
   "execution_count": 16,
   "id": "9345981375a12e73",
   "metadata": {
    "ExecuteTime": {
     "end_time": "2024-05-03T00:24:02.546593Z",
     "start_time": "2024-05-03T00:24:02.533629Z"
    }
   },
   "outputs": [
    {
     "data": {
      "text/plain": [
       "'1 - 2'"
      ]
     },
     "execution_count": 16,
     "metadata": {},
     "output_type": "execute_result"
    }
   ],
   "source": [
    "yrs_exp = jobs[4].find(\"div\", class_=\"css-1lh32fc\").next_sibling.text.split(\" · \")[1].split(\" Yrs \")[0]\n",
    "yrs_exp"
   ]
  },
  {
   "cell_type": "code",
   "execution_count": 17,
   "id": "ee6a8a97433ab030",
   "metadata": {
    "ExecuteTime": {
     "end_time": "2024-05-03T00:24:02.562551Z",
     "start_time": "2024-05-03T00:24:02.548601Z"
    }
   },
   "outputs": [
    {
     "data": {
      "text/plain": [
       "'IT/Software Development, Engineering - Telecom/Technology, Computer Science, Algorithms, Information Technology (IT), Python, Software, Software Development, Software Engineering, Programming'"
      ]
     },
     "execution_count": 17,
     "metadata": {},
     "output_type": "execute_result"
    }
   ],
   "source": [
    "industry_and_skills = \", \".join(jobs[0].find(\"div\", class_=\"css-1lh32fc\").next_sibling.text.split(\" · \")[2:])\n",
    "industry_and_skills"
   ]
  },
  {
   "cell_type": "code",
   "execution_count": 19,
   "id": "370dfa15974aa47e",
   "metadata": {
    "ExecuteTime": {
     "end_time": "2024-05-03T00:32:24.203730Z",
     "start_time": "2024-05-03T00:28:59.275996Z"
    }
   },
   "outputs": [
    {
     "name": "stdout",
     "output_type": "stream",
     "text": [
      "All Done\n"
     ]
    }
   ],
   "source": [
    "wuzzuf = pd.DataFrame(columns=[\"job_title\", \"company_name\", \"country\", \"city\", \"job_type\",\n",
    "                               \"work_location\", \"experience_level\", \"yrs_exp\", \"industry_and_skills\"])\n",
    "\n",
    "for i in range(100000):\n",
    "    req_for = requests.get(f'https://wuzzuf.net/search/jobs/?a=hpb%7Cspbg&q=data%20science&start={i}')\n",
    "    content_for = req_for.content\n",
    "    soup_for = BeautifulSoup(content_for, 'html.parser')\n",
    "    jobs_for = soup_for.find_all(\"div\", class_='css-pkv5jc')\n",
    "    if len(jobs_for) == 0:\n",
    "        break\n",
    "        \n",
    "    \n",
    "    for job in jobs_for:\n",
    "        \n",
    "        job_title = job.find(\"h2\", class_='css-m604qf').text\n",
    "        \n",
    "        company_name = job.find(\"div\", class_ = \"css-d7j1kk\").text.split(\" - \")[0]\n",
    "        \n",
    "        country_select = job.find(\"span\", class_ = \"css-5wys0k\").text.split(\", \")[1].replace(\" \", \"\")\n",
    "        if country_select in [\"Cairo\", \"Giza\", \"Sharqia\", \"Alexandria\", \"Damietta\", \"Dakahlia\", \"Fayoum\", \"Gharbia\", \n",
    "                              \"Ismailia\", \"KafrElSheikh\", \"Luxor\", \"Matruh\", \"Minya\", \"Monufya\", \"NewValley\", \"NorthSinai\",\n",
    "                              \"PortSaid\", \"Qalubia\", \"Qena\", \"RedSea\", \"Sohag\", \"SouthSinai\", \"Suez\"]:\n",
    "            country = \"Egypt\"\n",
    "            city = country_select\n",
    "        else:\n",
    "            country = country_select\n",
    "            city = job.find(\"span\", class_ = \"css-5wys0k\").text.split(\", \")[0]\n",
    "        \n",
    "        job_type = job.find(\"span\", class_=\"css-1ve4b75 eoyjyou0\").text\n",
    "        \n",
    "        try:\n",
    "            work_location = job.find(\"span\", class_=\"css-o1vzmt eoyjyou0\").text\n",
    "        except:\n",
    "            work_location = \"Not Specified\"\n",
    "        \n",
    "        experience_level = job.find(\"div\", class_=\"css-1lh32fc\").next_sibling.text.split(\" · \")[0]\n",
    "        \n",
    "        if job.find(\"div\", class_=\"css-1lh32fc\").next_sibling.text.find(\"Yrs\") != -1:\n",
    "            yrs_exp = job.find(\"div\", class_=\"css-1lh32fc\").next_sibling.text.split(\" · \")[1].split(\" Yrs \")[0]\n",
    "            industry_and_skills = \", \".join(job.find(\"div\", class_=\"css-1lh32fc\").next_sibling.text.split(\" · \")[2:])\n",
    "        else:\n",
    "            yrs_exp = \"Not Specified\"\n",
    "            industry_and_skills = \", \".join(job.find(\"div\", class_=\"css-1lh32fc\").next_sibling.text.split(\" · \")[1:])\n",
    "        \n",
    "        wuzzuf.loc[len(wuzzuf)] = [job_title, company_name, country, city, job_type, work_location, experience_level, yrs_exp, industry_and_skills]\n",
    "        \n",
    "print(\"All Done\")"
   ]
  },
  {
   "cell_type": "code",
   "execution_count": 20,
   "id": "94c28169c28d452c",
   "metadata": {
    "ExecuteTime": {
     "end_time": "2024-05-03T00:32:24.235675Z",
     "start_time": "2024-05-03T00:32:24.205743Z"
    }
   },
   "outputs": [
    {
     "data": {
      "text/html": [
       "<div>\n",
       "<style scoped>\n",
       "    .dataframe tbody tr th:only-of-type {\n",
       "        vertical-align: middle;\n",
       "    }\n",
       "\n",
       "    .dataframe tbody tr th {\n",
       "        vertical-align: top;\n",
       "    }\n",
       "\n",
       "    .dataframe thead th {\n",
       "        text-align: right;\n",
       "    }\n",
       "</style>\n",
       "<table border=\"1\" class=\"dataframe\">\n",
       "  <thead>\n",
       "    <tr style=\"text-align: right;\">\n",
       "      <th></th>\n",
       "      <th>job_title</th>\n",
       "      <th>company_name</th>\n",
       "      <th>country</th>\n",
       "      <th>city</th>\n",
       "      <th>job_type</th>\n",
       "      <th>work_location</th>\n",
       "      <th>experience_level</th>\n",
       "      <th>yrs_exp</th>\n",
       "      <th>industry_and_skills</th>\n",
       "    </tr>\n",
       "  </thead>\n",
       "  <tbody>\n",
       "    <tr>\n",
       "      <th>0</th>\n",
       "      <td>AI &amp; Data Science Python Developer Intern</td>\n",
       "      <td>Sequel Solutions</td>\n",
       "      <td>Egypt</td>\n",
       "      <td>Cairo</td>\n",
       "      <td>Internship</td>\n",
       "      <td>Remote</td>\n",
       "      <td>Student</td>\n",
       "      <td>0 - 1</td>\n",
       "      <td>IT/Software Development, Engineering - Telecom...</td>\n",
       "    </tr>\n",
       "    <tr>\n",
       "      <th>1</th>\n",
       "      <td>Senior Accountant</td>\n",
       "      <td>Data Science</td>\n",
       "      <td>Egypt</td>\n",
       "      <td>Giza</td>\n",
       "      <td>Full Time</td>\n",
       "      <td>On-site</td>\n",
       "      <td>Experienced</td>\n",
       "      <td>3 - 5</td>\n",
       "      <td>Accounting/Finance, Administration, Banking, A...</td>\n",
       "    </tr>\n",
       "    <tr>\n",
       "      <th>2</th>\n",
       "      <td>Telesales Representative &amp; Data Collector</td>\n",
       "      <td>Diamond</td>\n",
       "      <td>Egypt</td>\n",
       "      <td>Giza</td>\n",
       "      <td>Full Time</td>\n",
       "      <td>On-site</td>\n",
       "      <td>Experienced</td>\n",
       "      <td>3 - 5</td>\n",
       "      <td>R&amp;D/Science, Sales/Retail, Sales Field, Telesa...</td>\n",
       "    </tr>\n",
       "    <tr>\n",
       "      <th>3</th>\n",
       "      <td>Data Management Supervisor</td>\n",
       "      <td>Nahdet Misr Publishing Group</td>\n",
       "      <td>Egypt</td>\n",
       "      <td>Giza</td>\n",
       "      <td>Full Time</td>\n",
       "      <td>On-site</td>\n",
       "      <td>Experienced</td>\n",
       "      <td>6 - 8</td>\n",
       "      <td>Operations/Management, Sales/Retail, Computer ...</td>\n",
       "    </tr>\n",
       "    <tr>\n",
       "      <th>4</th>\n",
       "      <td>Data Analyst</td>\n",
       "      <td>Confidential</td>\n",
       "      <td>Egypt</td>\n",
       "      <td>Giza</td>\n",
       "      <td>Full Time</td>\n",
       "      <td>Hybrid</td>\n",
       "      <td>Entry Level</td>\n",
       "      <td>1 - 2</td>\n",
       "      <td>Analyst/Research, Engineering - Telecom/Techno...</td>\n",
       "    </tr>\n",
       "    <tr>\n",
       "      <th>...</th>\n",
       "      <td>...</td>\n",
       "      <td>...</td>\n",
       "      <td>...</td>\n",
       "      <td>...</td>\n",
       "      <td>...</td>\n",
       "      <td>...</td>\n",
       "      <td>...</td>\n",
       "      <td>...</td>\n",
       "      <td>...</td>\n",
       "    </tr>\n",
       "    <tr>\n",
       "      <th>1258</th>\n",
       "      <td>Sustainability Consultant</td>\n",
       "      <td>dss+</td>\n",
       "      <td>UnitedArabEmirates</td>\n",
       "      <td>Dubai</td>\n",
       "      <td>Full Time</td>\n",
       "      <td>Not Specified</td>\n",
       "      <td>Experienced</td>\n",
       "      <td>Not Specified</td>\n",
       "      <td>Accounting/Finance, IT/Software Development, S...</td>\n",
       "    </tr>\n",
       "    <tr>\n",
       "      <th>1259</th>\n",
       "      <td>Regional SHE Manager</td>\n",
       "      <td>S.C. Johnson &amp; Son Inc</td>\n",
       "      <td>Egypt</td>\n",
       "      <td>Cairo</td>\n",
       "      <td>Full Time</td>\n",
       "      <td>Not Specified</td>\n",
       "      <td>Not specified</td>\n",
       "      <td>Not Specified</td>\n",
       "      <td>Business Development, Operations/Management, S...</td>\n",
       "    </tr>\n",
       "    <tr>\n",
       "      <th>1260</th>\n",
       "      <td>Front of House &amp; Parent Liaison Officer - Rege...</td>\n",
       "      <td>schoolscompared</td>\n",
       "      <td>UnitedArabEmirates</td>\n",
       "      <td>Dubai</td>\n",
       "      <td>Full Time</td>\n",
       "      <td>Not Specified</td>\n",
       "      <td>Not specified</td>\n",
       "      <td>Not Specified</td>\n",
       "      <td>Administration, Customer Service/Support, Educ...</td>\n",
       "    </tr>\n",
       "    <tr>\n",
       "      <th>1261</th>\n",
       "      <td>Market Access Private Health Insurance Manager...</td>\n",
       "      <td>Johnson &amp; Johnson</td>\n",
       "      <td>UnitedArabEmirates</td>\n",
       "      <td>Dubai</td>\n",
       "      <td>Full Time</td>\n",
       "      <td>Not Specified</td>\n",
       "      <td>Not specified</td>\n",
       "      <td>Not Specified</td>\n",
       "      <td>Marketing/PR/Advertising, Sales/Retail, Pharma...</td>\n",
       "    </tr>\n",
       "    <tr>\n",
       "      <th>1262</th>\n",
       "      <td>Oliver Wyman - Digital Strategy - Associate / ...</td>\n",
       "      <td>Marsh McLennan International</td>\n",
       "      <td>UnitedArabEmirates</td>\n",
       "      <td>Dubai</td>\n",
       "      <td>Full Time</td>\n",
       "      <td>Not Specified</td>\n",
       "      <td>Not specified</td>\n",
       "      <td>Not Specified</td>\n",
       "      <td>IT/Software Development, Sales/Retail, Enginee...</td>\n",
       "    </tr>\n",
       "  </tbody>\n",
       "</table>\n",
       "<p>1263 rows × 9 columns</p>\n",
       "</div>"
      ],
      "text/plain": [
       "                                              job_title  \\\n",
       "0             AI & Data Science Python Developer Intern   \n",
       "1                                     Senior Accountant   \n",
       "2             Telesales Representative & Data Collector   \n",
       "3                            Data Management Supervisor   \n",
       "4                                          Data Analyst   \n",
       "...                                                 ...   \n",
       "1258                          Sustainability Consultant   \n",
       "1259                               Regional SHE Manager   \n",
       "1260  Front of House & Parent Liaison Officer - Rege...   \n",
       "1261  Market Access Private Health Insurance Manager...   \n",
       "1262  Oliver Wyman - Digital Strategy - Associate / ...   \n",
       "\n",
       "                      company_name             country   city    job_type  \\\n",
       "0                 Sequel Solutions               Egypt  Cairo  Internship   \n",
       "1                     Data Science               Egypt   Giza   Full Time   \n",
       "2                          Diamond               Egypt   Giza   Full Time   \n",
       "3     Nahdet Misr Publishing Group               Egypt   Giza   Full Time   \n",
       "4                     Confidential               Egypt   Giza   Full Time   \n",
       "...                            ...                 ...    ...         ...   \n",
       "1258                          dss+  UnitedArabEmirates  Dubai   Full Time   \n",
       "1259        S.C. Johnson & Son Inc               Egypt  Cairo   Full Time   \n",
       "1260               schoolscompared  UnitedArabEmirates  Dubai   Full Time   \n",
       "1261             Johnson & Johnson  UnitedArabEmirates  Dubai   Full Time   \n",
       "1262  Marsh McLennan International  UnitedArabEmirates  Dubai   Full Time   \n",
       "\n",
       "      work_location experience_level        yrs_exp  \\\n",
       "0            Remote          Student          0 - 1   \n",
       "1           On-site      Experienced          3 - 5   \n",
       "2           On-site      Experienced          3 - 5   \n",
       "3           On-site      Experienced          6 - 8   \n",
       "4            Hybrid      Entry Level          1 - 2   \n",
       "...             ...              ...            ...   \n",
       "1258  Not Specified      Experienced  Not Specified   \n",
       "1259  Not Specified    Not specified  Not Specified   \n",
       "1260  Not Specified    Not specified  Not Specified   \n",
       "1261  Not Specified    Not specified  Not Specified   \n",
       "1262  Not Specified    Not specified  Not Specified   \n",
       "\n",
       "                                    industry_and_skills  \n",
       "0     IT/Software Development, Engineering - Telecom...  \n",
       "1     Accounting/Finance, Administration, Banking, A...  \n",
       "2     R&D/Science, Sales/Retail, Sales Field, Telesa...  \n",
       "3     Operations/Management, Sales/Retail, Computer ...  \n",
       "4     Analyst/Research, Engineering - Telecom/Techno...  \n",
       "...                                                 ...  \n",
       "1258  Accounting/Finance, IT/Software Development, S...  \n",
       "1259  Business Development, Operations/Management, S...  \n",
       "1260  Administration, Customer Service/Support, Educ...  \n",
       "1261  Marketing/PR/Advertising, Sales/Retail, Pharma...  \n",
       "1262  IT/Software Development, Sales/Retail, Enginee...  \n",
       "\n",
       "[1263 rows x 9 columns]"
      ]
     },
     "execution_count": 20,
     "metadata": {},
     "output_type": "execute_result"
    }
   ],
   "source": [
    "wuzzuf"
   ]
  },
  {
   "cell_type": "code",
   "execution_count": 21,
   "id": "1377a98a14e6e8ba",
   "metadata": {
    "ExecuteTime": {
     "end_time": "2024-05-03T00:32:24.266594Z",
     "start_time": "2024-05-03T00:32:24.238637Z"
    }
   },
   "outputs": [
    {
     "data": {
      "text/plain": [
       "0"
      ]
     },
     "execution_count": 21,
     "metadata": {},
     "output_type": "execute_result"
    }
   ],
   "source": [
    "wuzzuf.duplicated().sum()"
   ]
  },
  {
   "cell_type": "code",
   "execution_count": 22,
   "id": "b1b20ed17895f969",
   "metadata": {
    "ExecuteTime": {
     "end_time": "2024-05-03T00:32:24.298509Z",
     "start_time": "2024-05-03T00:32:24.271549Z"
    }
   },
   "outputs": [
    {
     "data": {
      "text/plain": [
       "country\n",
       "Egypt                 604\n",
       "SaudiArabia           308\n",
       "UnitedArabEmirates    274\n",
       "Qatar                  54\n",
       "Kuwait                 17\n",
       "UnitedStates            3\n",
       "Bahrain                 1\n",
       "D.C.                    1\n",
       "Germany                 1\n",
       "Name: count, dtype: int64"
      ]
     },
     "execution_count": 22,
     "metadata": {},
     "output_type": "execute_result"
    }
   ],
   "source": [
    "wuzzuf.country.value_counts()"
   ]
  },
  {
   "cell_type": "code",
   "execution_count": 23,
   "id": "fb8ff5ca38c5f48",
   "metadata": {
    "ExecuteTime": {
     "end_time": "2024-05-03T00:32:24.314467Z",
     "start_time": "2024-05-03T00:32:24.300471Z"
    }
   },
   "outputs": [
    {
     "data": {
      "text/plain": [
       "city\n",
       "Cairo             447\n",
       "Dubai             269\n",
       "Riyadh            269\n",
       "Giza              106\n",
       "Doha               54\n",
       "Alexandria         28\n",
       "Makkah             25\n",
       "Kuwait City        17\n",
       "Sharqia            10\n",
       "Jeddah              8\n",
       "Abu Dhabi           4\n",
       "Gharbia             3\n",
       "Tabuk               3\n",
       "Minya               2\n",
       "Dakahlia            2\n",
       "Khobar              2\n",
       "Ras al-Khaimah      1\n",
       "RedSea              1\n",
       "Damietta            1\n",
       "PortSaid            1\n",
       "Monufya             1\n",
       "Jazan               1\n",
       "Munich              1\n",
       "Washington          1\n",
       "Ar Rifa'            1\n",
       "Suez                1\n",
       "Henderson           1\n",
       "Qalubia             1\n",
       "San Francisco       1\n",
       "Trenton             1\n",
       "Name: count, dtype: int64"
      ]
     },
     "execution_count": 23,
     "metadata": {},
     "output_type": "execute_result"
    }
   ],
   "source": [
    "wuzzuf.city.value_counts()"
   ]
  },
  {
   "cell_type": "code",
   "execution_count": 24,
   "id": "c46625feb3d8ad9b",
   "metadata": {
    "ExecuteTime": {
     "end_time": "2024-05-03T00:32:24.330422Z",
     "start_time": "2024-05-03T00:32:24.316430Z"
    }
   },
   "outputs": [
    {
     "data": {
      "text/plain": [
       "yrs_exp\n",
       "Not Specified    840\n",
       "3 - 5             65\n",
       "1 - 3             38\n",
       "5 - 7             22\n",
       "2 - 4             21\n",
       "                ... \n",
       "2 - 20             1\n",
       "3 - 13             1\n",
       "4 - 4              1\n",
       "8 - 15             1\n",
       "3 - 16             1\n",
       "Name: count, Length: 74, dtype: int64"
      ]
     },
     "execution_count": 24,
     "metadata": {},
     "output_type": "execute_result"
    }
   ],
   "source": [
    "wuzzuf.yrs_exp.value_counts()"
   ]
  },
  {
   "cell_type": "code",
   "execution_count": 25,
   "id": "3b8d91569e067f78",
   "metadata": {
    "ExecuteTime": {
     "end_time": "2024-05-03T00:32:24.362308Z",
     "start_time": "2024-05-03T00:32:24.332386Z"
    }
   },
   "outputs": [
    {
     "data": {
      "text/html": [
       "<div>\n",
       "<style scoped>\n",
       "    .dataframe tbody tr th:only-of-type {\n",
       "        vertical-align: middle;\n",
       "    }\n",
       "\n",
       "    .dataframe tbody tr th {\n",
       "        vertical-align: top;\n",
       "    }\n",
       "\n",
       "    .dataframe thead th {\n",
       "        text-align: right;\n",
       "    }\n",
       "</style>\n",
       "<table border=\"1\" class=\"dataframe\">\n",
       "  <thead>\n",
       "    <tr style=\"text-align: right;\">\n",
       "      <th></th>\n",
       "      <th>job_title</th>\n",
       "      <th>company_name</th>\n",
       "      <th>country</th>\n",
       "      <th>city</th>\n",
       "      <th>job_type</th>\n",
       "      <th>work_location</th>\n",
       "      <th>experience_level</th>\n",
       "      <th>yrs_exp</th>\n",
       "      <th>industry_and_skills</th>\n",
       "    </tr>\n",
       "  </thead>\n",
       "  <tbody>\n",
       "    <tr>\n",
       "      <th>210</th>\n",
       "      <td>Senior Software Tester</td>\n",
       "      <td>qTech.</td>\n",
       "      <td>Egypt</td>\n",
       "      <td>Dakahlia</td>\n",
       "      <td>Full Time</td>\n",
       "      <td>On-site</td>\n",
       "      <td>Experienced</td>\n",
       "      <td>3+</td>\n",
       "      <td>IT/Software Development, Quality, Engineering ...</td>\n",
       "    </tr>\n",
       "    <tr>\n",
       "      <th>416</th>\n",
       "      <td>Software Tester</td>\n",
       "      <td>qTech.</td>\n",
       "      <td>Egypt</td>\n",
       "      <td>Dakahlia</td>\n",
       "      <td>Full Time</td>\n",
       "      <td>On-site</td>\n",
       "      <td>Entry Level</td>\n",
       "      <td>1+</td>\n",
       "      <td>IT/Software Development, Quality, Engineering ...</td>\n",
       "    </tr>\n",
       "  </tbody>\n",
       "</table>\n",
       "</div>"
      ],
      "text/plain": [
       "                  job_title company_name country      city   job_type  \\\n",
       "210  Senior Software Tester      qTech.    Egypt  Dakahlia  Full Time   \n",
       "416         Software Tester      qTech.    Egypt  Dakahlia  Full Time   \n",
       "\n",
       "    work_location experience_level yrs_exp  \\\n",
       "210       On-site      Experienced      3+   \n",
       "416       On-site      Entry Level      1+   \n",
       "\n",
       "                                   industry_and_skills  \n",
       "210  IT/Software Development, Quality, Engineering ...  \n",
       "416  IT/Software Development, Quality, Engineering ...  "
      ]
     },
     "execution_count": 25,
     "metadata": {},
     "output_type": "execute_result"
    }
   ],
   "source": [
    "wuzzuf[wuzzuf.city == (\"Dakahlia\")]"
   ]
  },
  {
   "cell_type": "code",
   "execution_count": 26,
   "id": "a724a6ac4738dbf",
   "metadata": {
    "ExecuteTime": {
     "end_time": "2024-05-03T00:32:24.409183Z",
     "start_time": "2024-05-03T00:32:24.365300Z"
    }
   },
   "outputs": [],
   "source": [
    "wuzzuf.to_csv(\"data_science.csv\")"
   ]
  },
  {
   "cell_type": "markdown",
   "id": "4ebb3eeaa7599040",
   "metadata": {},
   "source": [
    "## For functional programming"
   ]
  },
  {
   "cell_type": "markdown",
   "id": "c1e4cfa3c10047dd",
   "metadata": {},
   "source": [
    "### Functions for encoding and decoding the search name "
   ]
  },
  {
   "cell_type": "code",
   "execution_count": 27,
   "id": "1a9504701625be46",
   "metadata": {
    "ExecuteTime": {
     "end_time": "2024-05-03T00:32:24.425153Z",
     "start_time": "2024-05-03T00:32:24.412173Z"
    }
   },
   "outputs": [],
   "source": [
    "def encode(s):\n",
    "    encoded_text = s.replace(\" \", \"%20\")\n",
    "    encoded_text = encoded_text.replace(\"(\",\"%28\")\n",
    "    encoded_text = encoded_text.replace(\")\",\"%29\")\n",
    "    return encoded_text\n",
    "\n",
    "def decode(s):\n",
    "    decoded_text = s.replace(\"%20\", \" \")\n",
    "    decoded_text = decoded_text.replace(\"%28\",\"(\")\n",
    "    decoded_text = decoded_text.replace(\"%29\",\")\")\n",
    "    return decoded_text"
   ]
  },
  {
   "cell_type": "markdown",
   "id": "4a2dcd19ef77665d",
   "metadata": {},
   "source": [
    "### Function for scraping"
   ]
  },
  {
   "cell_type": "code",
   "execution_count": 28,
   "id": "51921aeccbecf0a6",
   "metadata": {
    "ExecuteTime": {
     "end_time": "2024-05-03T00:32:24.456057Z",
     "start_time": "2024-05-03T00:32:24.431122Z"
    }
   },
   "outputs": [],
   "source": [
    "def scraping(search_name):\n",
    "    encoded_text = encode(search_name)\n",
    "    wuzzuf_func = pd.DataFrame(columns=[\"job_title\", \"company_name\", \"country\", \"city\", \"job_type\", \"work_location\", \"experience_level\", \"yrs_exp\", \"industry_and_skills\"])\n",
    "    \n",
    "    for i in range(100000):\n",
    "        req_for = requests.get(f'https://wuzzuf.net/search/jobs/?a=hpb%7Cspbg&q={encoded_text}&start={i}')\n",
    "        content_for = req_for.content\n",
    "        soup_for = BeautifulSoup(content_for, 'html.parser')\n",
    "        jobs_for = soup_for.find_all(\"div\", class_='css-pkv5jc')\n",
    "        if len(jobs_for) == 0:\n",
    "            break\n",
    "            \n",
    "            \n",
    "        for job in jobs_for:\n",
    "            job_title = job.find(\"h2\", class_='css-m604qf').text\n",
    "            \n",
    "            company_name = job.find(\"div\", class_ = \"css-d7j1kk\").text.split(\" - \")[0]\n",
    "            \n",
    "            country_select = job.find(\"span\", class_ = \"css-5wys0k\").text.split(\", \")[1].replace(\" \", \"\")\n",
    "            \n",
    "            if country_select in [\"Cairo\", \"Giza\", \"Sharqia\", \"Alexandria\", \"Damietta\", \"Dakahlia\", \"Fayoum\", \"Gharbia\", \"Ismailia\", \"KafrElSheikh\", \"Luxor\", \"Matruh\", \"Minya\", \"Monufya\", \"NewValley\", \"NorthSinai\", \"PortSaid\", \"Qalubia\", \"Qena\", \"RedSea\", \"Sohag\", \"SouthSinai\", \"Suez\"]:\n",
    "                country = \"Egypt\"\n",
    "                city = country_select\n",
    "            else:\n",
    "                country = country_select\n",
    "                city = job.find(\"span\", class_ = \"css-5wys0k\").text.split(\", \")[0]\n",
    "                \n",
    "            job_type = job.find(\"span\", class_=\"css-1ve4b75 eoyjyou0\").text\n",
    "            \n",
    "            try:\n",
    "                work_location = job.find(\"span\", class_=\"css-o1vzmt eoyjyou0\").text\n",
    "            except:\n",
    "                work_location = \"Not Specified\"\n",
    "                \n",
    "            experience_level = job.find(\"div\", class_=\"css-1lh32fc\").next_sibling.text.split(\" · \")[0]\n",
    "            if job.find(\"div\", class_=\"css-1lh32fc\").next_sibling.text.find(\"Yrs\") != -1:\n",
    "                yrs_exp = job.find(\"div\", class_=\"css-1lh32fc\").next_sibling.text.split(\" · \")[1].split(\" Yrs \")[0]\n",
    "            else:\n",
    "                yrs_exp = \"Not Specified\"\n",
    "                \n",
    "            industry_and_skills = \", \".join(job.find(\"div\", class_=\"css-1lh32fc\").next_sibling.text.split(\" · \")[2:])\n",
    "            \n",
    "            wuzzuf_func.loc[len(wuzzuf_func)] = [job_title, company_name, country, city, job_type, work_location, experience_level, yrs_exp, industry_and_skills]\n",
    "            \n",
    "            \n",
    "    decoded_text = decode(encoded_text)\n",
    "    wuzzuf_func.to_csv(f\"{decoded_text}.csv\")\n",
    "    print(\"All done and file has been saved :)\")\n",
    "    return wuzzuf_func"
   ]
  },
  {
   "cell_type": "markdown",
   "id": "fad839d470f8d471",
   "metadata": {},
   "source": [
    "### Testing the function"
   ]
  },
  {
   "cell_type": "code",
   "execution_count": 29,
   "id": "c0f8fb59b871a875",
   "metadata": {
    "ExecuteTime": {
     "end_time": "2024-05-03T00:32:36.790059Z",
     "start_time": "2024-05-03T00:32:24.460077Z"
    }
   },
   "outputs": [
    {
     "name": "stdout",
     "output_type": "stream",
     "text": [
      "All done and file has been saved :)\n"
     ]
    }
   ],
   "source": [
    "game_developer = scraping(\"game developer\")"
   ]
  },
  {
   "cell_type": "markdown",
   "id": "266b632f16e5b146",
   "metadata": {},
   "source": [
    "Here we get to the end of the notebook, I hope you enjoyed it and learnt something from it."
   ]
  },
  {
   "cell_type": "markdown",
   "id": "d95b0fcd9ece6708",
   "metadata": {},
   "source": [
    "Thank you, and don't forget an upvote if you find it useful 😍\n"
   ]
  }
 ],
 "metadata": {
  "kernelspec": {
   "display_name": "Python 3",
   "language": "python",
   "name": "python3"
  },
  "language_info": {
   "codemirror_mode": {
    "name": "ipython",
    "version": 2
   },
   "file_extension": ".py",
   "mimetype": "text/x-python",
   "name": "python",
   "nbconvert_exporter": "python",
   "pygments_lexer": "ipython2",
   "version": "2.7.6"
  }
 },
 "nbformat": 4,
 "nbformat_minor": 5
}
